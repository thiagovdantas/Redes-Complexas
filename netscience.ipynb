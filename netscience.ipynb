{
 "cells": [
  {
   "cell_type": "code",
   "execution_count": 1,
   "metadata": {},
   "outputs": [],
   "source": [
    "import networkx as nx\n",
    "import numpy as np\n",
    "from collections import Counter\n",
    "import matplotlib.pyplot as plt"
   ]
  },
  {
   "cell_type": "code",
   "execution_count": 2,
   "metadata": {},
   "outputs": [],
   "source": [
    "###### GRAU ######\n",
    "# Calcula o grau medio\n",
    "def mean_degree(G):\n",
    "    media = (sum([d for n, d in nx.degree(G)]))/nx.number_of_nodes(G)\n",
    "    return media\n",
    "\n",
    "# Calcula o grau maximo\n",
    "def maximum_degree(G):\n",
    "    maximo = max([d for n, d in nx.degree(G)])\n",
    "    return maximo\n",
    "\n",
    "# Calcula o grau minimo\n",
    "def minimum_degree(G):\n",
    "    minimo = min([d for n, d in nx.degree(G)])\n",
    "    return minimo\n",
    "\n",
    "# Calcula a mediana do grau\n",
    "def median_degree(G):\n",
    "    mediana = np.median([d for n, d in nx.degree(G)])\n",
    "    return mediana\n",
    "\n",
    "# Calcula o desvio padrao do grau\n",
    "def standard_deviation_degree(G):\n",
    "    std = np.std([d for n, d in nx.degree(G)])\n",
    "    return std\n",
    "\n",
    "def plot_pdf_degree(G):\n",
    "    sequencia_grau = sorted([d for n, d in nx.degree(G)])\n",
    "    contar_grau = Counter(sequencia_grau)\n",
    "    deg, cnt = zip(*contar_grau.items())\n",
    "    deg = list(deg)\n",
    "    cnt = list(cnt)\n",
    "\n",
    "    # Calcula o percentual de vertices em cada grau (pdf)\n",
    "    perc = [0]*len(cnt)\n",
    "    for idx, d in enumerate(cnt):\n",
    "        perc[idx] = round(d/nx.number_of_nodes(G),4)\n",
    "\n",
    "    plt.figure(figsize = (12,7))\n",
    "    plt.plot(deg, perc, 'bo')\n",
    "    \n",
    "    plt.title(\"PDF do grau\")\n",
    "    plt.ylabel(\"Fração de amostras = x\")\n",
    "    plt.xlabel(\"x\")\n",
    "    \n",
    "    plt.xticks([d for d in deg], rotation=0)\n",
    "\n",
    "    #plt.savefig('nome_da_imagem.png')\n",
    "    plt.show()\n",
    "    \n",
    "def plot_cdf_degree(G):\n",
    "    sequencia_grau = sorted([d for n, d in nx.degree(G)])\n",
    "    contar_grau = Counter(sequencia_grau)\n",
    "    deg, cnt = zip(*contar_grau.items())\n",
    "    deg = list(deg)\n",
    "    cnt = list(cnt)\n",
    "\n",
    "    # Calcula o percentual de vertices em cada grau (pdf)\n",
    "    perc = []\n",
    "    for d in cnt:\n",
    "        perc.append(round(d/nx.number_of_nodes(G),4))\n",
    "    \n",
    "    # Calculando a cdf\n",
    "    perc_cdf = []\n",
    "    ite = 0\n",
    "    for d in perc:\n",
    "        if ite == 0:\n",
    "            perc_cdf.append(d)\n",
    "        else:\n",
    "            perc_cdf.append(d + perc_cdf[(ite - 1)])\n",
    "        ite += 1\n",
    "          \n",
    "    plt.figure(figsize = (12,7))\n",
    "    plt.plot(deg, perc_cdf, 'bo')\n",
    "    \n",
    "    plt.title(\"CDF grau\")\n",
    "    plt.ylabel(\"Fração de amostras <= x\")\n",
    "    plt.xlabel(\"x\")\n",
    "    \n",
    "    plt.xticks([d for d in deg], rotation=0)\n",
    "\n",
    "    #plt.savefig('nome_da_imagem.png')\n",
    "    plt.show()\n",
    "\n",
    "def plot_ccdf_degree(G):\n",
    "    sequencia_grau = sorted([d for n, d in nx.degree(G)])\n",
    "    contar_grau = Counter(sequencia_grau)\n",
    "    deg, cnt = zip(*contar_grau.items())\n",
    "    deg = list(deg)\n",
    "    cnt = list(cnt)\n",
    "\n",
    "    # Calcula o percentual de vertices em cada grau\n",
    "    perc = []\n",
    "    for d in cnt:\n",
    "        perc.append(round(d/nx.number_of_nodes(G),4))\n",
    "    \n",
    "    # Calculando a cdf\n",
    "    perc_cdf = []\n",
    "    ite = 0\n",
    "    for d in perc:\n",
    "        if ite == 0:\n",
    "            perc_cdf.append(d)\n",
    "        else:\n",
    "            perc_cdf.append(d + perc_cdf[(ite - 1)])\n",
    "        ite += 1\n",
    "    \n",
    "    # Calculando a ccdf\n",
    "    perc_ccdf = []\n",
    "    for ite in range(len(perc_cdf)):\n",
    "        if ite == 0:\n",
    "            perc_ccdf.append(1)\n",
    "        else:\n",
    "            perc_ccdf.append(1 - perc_cdf[(ite - 1)])\n",
    "        \n",
    "    plt.figure(figsize = (12,7))\n",
    "    plt.plot(deg, perc_ccdf, 'bo')\n",
    "    \n",
    "    plt.title(\"CCDF empirica do grau\")\n",
    "    plt.ylabel(\"Fração de amostras >= x\")\n",
    "    plt.xlabel(\"x\")\n",
    "    \n",
    "    plt.xticks([d for d in deg], rotation=0)\n",
    "\n",
    "    #plt.savefig('nome_da_imagem.png')\n",
    "    plt.show()\n",
    "    \n",
    "def plot_ccdf_degree_log(G):\n",
    "    sequencia_grau = sorted([d for n, d in nx.degree(G)])\n",
    "    contar_grau = Counter(sequencia_grau)\n",
    "    deg, cnt = zip(*contar_grau.items())\n",
    "    deg = list(deg)\n",
    "    cnt = list(cnt)\n",
    "\n",
    "    # Calcula o percentual de vertices em cada grau\n",
    "    perc = []\n",
    "    for d in cnt:\n",
    "        perc.append(round(d/nx.number_of_nodes(G),4))\n",
    "    \n",
    "    # Calculando a cdf\n",
    "    perc_cdf = []\n",
    "    ite = 0\n",
    "    for d in perc:\n",
    "        if ite == 0:\n",
    "            perc_cdf.append(d)\n",
    "        else:\n",
    "            perc_cdf.append(d + perc_cdf[(ite - 1)])\n",
    "        ite += 1\n",
    "    \n",
    "    # Calculando a ccdf\n",
    "    perc_ccdf = []\n",
    "    for ite in range(len(perc_cdf)):\n",
    "        if ite == 0:\n",
    "            perc_ccdf.append(1)\n",
    "        else:\n",
    "            perc_ccdf.append(1 - perc_cdf[(ite - 1)])\n",
    "        \n",
    "    plt.figure(figsize = (6,4))\n",
    "    plt.plot(deg, perc_ccdf, 'bo')\n",
    "    \n",
    "    plt.title(\"CCDF empirica do grau\")\n",
    "    plt.ylabel(\"Fração de amostras >= x\")\n",
    "    plt.xlabel(\"x\")\n",
    "    \n",
    "    plt.xscale('log')\n",
    "    plt.yscale('log')\n",
    "    \n",
    "    #plt.savefig('nome_da_imagem.png')\n",
    "    plt.show()"
   ]
  },
  {
   "cell_type": "code",
   "execution_count": 3,
   "metadata": {},
   "outputs": [],
   "source": [
    "###### COMPONENTES CONEXAS ######\n",
    "# Calcula a maior componente conexa\n",
    "def maximum_connected_component(G):\n",
    "    maior_cc = max(nx.connected_components(G), key=len)\n",
    "    return len(maior_cc)\n",
    "\n",
    "# Calcula a menor componente conexa\n",
    "def minimum_connected_component(G):\n",
    "    menor_cc = min(nx.connected_components(G), key=len)\n",
    "    return len(menor_cc)\n",
    "\n",
    "# Listar as componentes conexas em ordem decrescente de tamanho\n",
    "def list_connected_component(G):\n",
    "    list_cc = [c for c in sorted(nx.connected_components(G), key=len, reverse=True)]\n",
    "    return list_cc\n",
    "\n",
    "# Lista o tamanho de todas as componentes conexas en ordem decrescente de tamanaho\n",
    "def list_length_connected_component(G):\n",
    "    list_l_cc = [len(c) for c in sorted(nx.connected_components(G), key=len, reverse=True)]\n",
    "    return list_l_cc\n",
    "\n",
    "# Calcula o tamanho médio das componentes conexas\n",
    "def mean_connected_component(G):\n",
    "    list_l_cc = list_length_connected_component(G)\n",
    "    media_cc = np.mean(list_l_cc)\n",
    "    return media_cc\n",
    "\n",
    "# Calcula a mediana das componentes conexas\n",
    "def median_connected_component(G):\n",
    "    list_l_cc = list_length_connected_component(G)\n",
    "    mediana_cc = np.median(list_l_cc)\n",
    "    return mediana_cc\n",
    "\n",
    "# Calcula o desvio padrao das componentes conexas\n",
    "def standard_deviation_connected_component(G):\n",
    "    list_l_cc = list_length_connected_component(G)\n",
    "    media_cc = np.std(list_l_cc)\n",
    "    return media_cc\n",
    "\n",
    "def print_pdf_cc(G):\n",
    "    sequencia_cc = list_length_connected_component(G)\n",
    "    contar_cc = Counter(sequencia_cc)\n",
    "    cc, cnt = zip(*contar_cc.items())\n",
    "    cc = list(cc)\n",
    "    cnt = list(cnt)\n",
    "    print(\"(Componente conexa\\t qtd\\t %)\")\n",
    "    for idx, d in enumerate(cnt):\n",
    "        print(str(cc[idx]) + \"\\t\" + str(d) + \"\\t\" + str(round((d/len(sequencia_cc)),4)))\n",
    "        \n",
    "def plot_ccdf_cc_log(G):\n",
    "    sequencia_cc = list_length_connected_component(G)\n",
    "    contar_cc = Counter(sequencia_cc)\n",
    "    cc, cnt = zip(*contar_cc.items())\n",
    "    cc = list(cc)\n",
    "    cnt = list(cnt)\n",
    "    cc.reverse()\n",
    "    cnt.reverse()\n",
    "    \n",
    "    # Calcula o percentual de vertices em cada cc\n",
    "    perc = []\n",
    "    for d in cnt:\n",
    "        perc.append(round((d/len(sequencia_cc)),4))\n",
    "    \n",
    "    # Calculando a cdf\n",
    "    perc_cdf = []\n",
    "    ite = 0\n",
    "    for d in perc:\n",
    "        if ite == 0:\n",
    "            perc_cdf.append(d)\n",
    "        else:\n",
    "            perc_cdf.append(d + perc_cdf[(ite - 1)])\n",
    "        ite += 1\n",
    "    \n",
    "    # Calculando a ccdf\n",
    "    perc_ccdf = []\n",
    "    for ite in range(len(perc_cdf)):\n",
    "        if ite == 0:\n",
    "            perc_ccdf.append(1)\n",
    "        else:\n",
    "            perc_ccdf.append(1 - perc_cdf[(ite - 1)])\n",
    "        \n",
    "    plt.figure(figsize = (6,4))\n",
    "    plt.plot(cc, perc_ccdf, 'bo')\n",
    "    \n",
    "    plt.title(\"CCDF empirica da cc\")\n",
    "    plt.ylabel(\"Fração de amostras >= x\")\n",
    "    plt.xlabel(\"x\")\n",
    "    \n",
    "    plt.xscale('log')\n",
    "    plt.yscale('log')\n",
    "    \n",
    "    #plt.savefig('nome_da_imagem.png')\n",
    "    plt.show()\n"
   ]
  },
  {
   "cell_type": "code",
   "execution_count": 4,
   "metadata": {},
   "outputs": [
    {
     "name": "stdout",
     "output_type": "stream",
     "text": [
      "##### Rede netscience #####\n",
      "\n",
      "Numero de arestas: 2742\n",
      "Numero de nos: 1589\n",
      "A rede possui densidade: 0.0022\n"
     ]
    }
   ],
   "source": [
    "# Importar o grafo\n",
    "G = nx.read_gml('netscience.gml')\n",
    "print(\"##### Rede netscience #####\\n\")\n",
    "print(\"Numero de arestas: \" + str(nx.number_of_edges(G)))\n",
    "print(\"Numero de nos: \" + str(nx.number_of_nodes(G)))\n",
    "print(\"A rede possui densidade: \" + str(round(nx.density(G),4)))\n",
    "#print(nx.info(G))"
   ]
  },
  {
   "cell_type": "code",
   "execution_count": 5,
   "metadata": {},
   "outputs": [
    {
     "name": "stdout",
     "output_type": "stream",
     "text": [
      "\n",
      "----- Analise do grau -----\n",
      "\n",
      "Grau maximo: 34\n",
      "Grau minimo: 0\n",
      "Grau medio: 3.4512\n",
      "Mediana do grau: 3.0\n",
      "Desvio padrao do grau: 3.4693\n"
     ]
    }
   ],
   "source": [
    "print(\"\\n----- Analise do grau -----\\n\")\n",
    "print(\"Grau maximo: \" + str(maximum_degree(G)))\n",
    "print(\"Grau minimo: \" + str(minimum_degree(G)))\n",
    "print(\"Grau medio: \" + str(round(mean_degree(G),4)))\n",
    "print(\"Mediana do grau: \" + str(median_degree(G)))\n",
    "print(\"Desvio padrao do grau: \" + str(round(standard_deviation_degree(G),4)))"
   ]
  },
  {
   "cell_type": "code",
   "execution_count": 6,
   "metadata": {},
   "outputs": [
    {
     "name": "stdout",
     "output_type": "stream",
     "text": [
      "\n",
      "----- Analise das componentes conexas -----\n",
      "\n",
      "O grafo possui: 396 componentes conexas\n",
      "A maior componente conexa possui: 379 nos\n",
      "A menor componente conexa possui: 1 nos\n",
      "O tamanho medio das componentes conexas é: 4.0126 nos\n",
      "A mediana das componentes conexas é: 2.0\n",
      "O desvio padrão das componentes conexas é: 19.2988\n",
      "\n",
      "(Componente conexa\t qtd\t %)\n",
      "379\t1\t0.0025\n",
      "57\t1\t0.0025\n",
      "31\t1\t0.0025\n",
      "28\t1\t0.0025\n",
      "21\t1\t0.0025\n",
      "14\t2\t0.0051\n",
      "13\t1\t0.0025\n",
      "12\t1\t0.0025\n",
      "11\t1\t0.0025\n",
      "10\t2\t0.0051\n",
      "9\t4\t0.0101\n",
      "8\t9\t0.0227\n",
      "7\t7\t0.0177\n",
      "6\t10\t0.0253\n",
      "5\t15\t0.0379\n",
      "4\t38\t0.096\n",
      "3\t71\t0.1793\n",
      "2\t102\t0.2576\n",
      "1\t128\t0.3232\n"
     ]
    }
   ],
   "source": [
    "print(\"\\n----- Analise das componentes conexas -----\\n\")\n",
    "print(\"O grafo possui: \" + str(nx.number_connected_components(G)) + \" componentes conexas\")\n",
    "print(\"A maior componente conexa possui: \" + str(maximum_connected_component(G)) + \" nos\")\n",
    "print(\"A menor componente conexa possui: \" + str(minimum_connected_component(G)) + \" nos\")\n",
    "print(\"O tamanho medio das componentes conexas é: \" + str(round(mean_connected_component(G),4)) + \" nos\")\n",
    "print(\"A mediana das componentes conexas é: \" + str(median_connected_component(G)))\n",
    "print(\"O desvio padrão das componentes conexas é: \" + str(round(standard_deviation_connected_component(G),4)))\n",
    "print()\n",
    "print_pdf_cc(G)"
   ]
  },
  {
   "cell_type": "code",
   "execution_count": 7,
   "metadata": {},
   "outputs": [
    {
     "data": {
      "image/png": "[encoded data removed]",
      "text/plain": [
       "<Figure size 432x288 with 1 Axes>"
      ]
     },
     "metadata": {
      "needs_background": "light"
     },
     "output_type": "display_data"
    }
   ],
   "source": [
    "plot_ccdf_cc_log(G)"
   ]
  },
  {
   "cell_type": "code",
   "execution_count": 8,
   "metadata": {},
   "outputs": [],
   "source": [
    "def distance_largest_component (G):\n",
    "    # Extraindo a componente gigante\n",
    "    components = list(max(nx.connected_components(G), key=len)) \n",
    "    S = G.subgraph(components)\n",
    "\n",
    "    distances = []\n",
    "    for i in range(len(components)-1):\n",
    "        for j in range(i+1,len(components)):\n",
    "            distances.append(nx.shortest_path_length(S, source = components[i], target=components[j]))\n",
    "    return distances\n",
    "\n",
    "\n",
    "def plot_pdf_distance(distances):\n",
    "    contar_distancia = Counter(distances)\n",
    "    dist, cnt = zip(*contar_distancia.items())\n",
    "    dist = list(dist)\n",
    "    cnt = list(cnt)\n",
    "\n",
    "    # Calcula o percentual da distancia(pdf)\n",
    "    perc = [0]*len(cnt)\n",
    "    for idx, d in enumerate(cnt):\n",
    "        perc[idx] = round(d/len(distances),4)\n",
    "\n",
    "    plt.figure(figsize = (12,7))\n",
    "    plt.plot(dist, perc, 'bo')\n",
    "    \n",
    "    plt.title(\"PDF da distancia\")\n",
    "    plt.ylabel(\"Fração de amostras = x\")\n",
    "    plt.xlabel(\"x\")\n",
    "    \n",
    "    plt.xticks([d for d in dist], rotation=0)\n",
    "\n",
    "    #plt.savefig('nome_da_imagem.png')\n",
    "    plt.show()\n",
    "\n",
    "def plot_cdf_distance(G):\n",
    "    contar_distancia = Counter(distances)\n",
    "    dist, cnt = zip(*contar_distancia.items())\n",
    "    dist = list(dist)\n",
    "    cnt = list(cnt)\n",
    "    distancias = sorted(zip(dist, cnt), key=lambda x:x[0])\n",
    "    #print(distancias)\n",
    "    # Calcula o percentual da distancia(pdf)\n",
    "    perc = [0]*len(cnt)\n",
    "    for idx, d in distancias:\n",
    "        val = round(d/len(distances),4)\n",
    "     #   print(val)\n",
    "        perc[idx-1] = val  \n",
    "    \n",
    "    # Calculando a cdf\n",
    "    perc_cdf = []\n",
    "    ite = 0\n",
    "    for d in perc:\n",
    "        if ite == 0:\n",
    "            perc_cdf.append(d)\n",
    "        else:\n",
    "            perc_cdf.append(d + perc_cdf[(ite - 1)])\n",
    "      #  print(ite, perc_cdf[ite])\n",
    "        ite += 1\n",
    "    \n",
    "    plt.figure(figsize = (12,7))\n",
    "    plt.plot(sorted(dist), perc_cdf, 'bo')\n",
    "  \n",
    "    plt.title(\"CDF da distancia\")\n",
    "    plt.ylabel(\"Fração de amostras <= x\")\n",
    "    plt.xlabel(\"x\")\n",
    "    \n",
    "    plt.xticks([d for d in dist], rotation=0)\n",
    "\n",
    "    #plt.savefig('nome_da_imagem.png')\n",
    "    plt.show()\n",
    "    \n",
    "def plot_ccdf_distance(G):\n",
    "    contar_distancia = Counter(distances)\n",
    "    dist, cnt = zip(*contar_distancia.items())\n",
    "    dist = list(dist)\n",
    "    cnt = list(cnt)\n",
    "    distancias = sorted(zip(dist, cnt), key=lambda x:x[0])\n",
    "    #print(distancias)\n",
    "    # Calcula o percentual da distancia(pdf)\n",
    "    perc = [0]*len(cnt)\n",
    "    for idx, d in distancias:\n",
    "        val = round(d/len(distances),4)\n",
    "     #   print(val)\n",
    "        perc[idx-1] = val  \n",
    "    \n",
    "    # Calculando a cdf\n",
    "    perc_cdf = []\n",
    "    ite = 0\n",
    "    for d in perc:\n",
    "        if ite == 0:\n",
    "            perc_cdf.append(d)\n",
    "        else:\n",
    "            perc_cdf.append(d + perc_cdf[(ite - 1)])\n",
    "      #  print(ite, perc_cdf[ite])\n",
    "        ite += 1\n",
    "    \n",
    "    # Calculando a ccdf\n",
    "    perc_ccdf = []\n",
    "    for ite in range(len(perc_cdf)):\n",
    "        if ite == 0:\n",
    "            perc_ccdf.append(1)\n",
    "        else:\n",
    "            perc_ccdf.append(1 - perc_cdf[(ite - 1)])\n",
    "        \n",
    "    plt.figure(figsize = (12,7))\n",
    "    plt.plot(sorted(dist), perc_ccdf, 'bo')\n",
    "  \n",
    "    plt.title(\"CCDF empirica da distancia\")\n",
    "    plt.ylabel(\"Fração de amostras >= x\")\n",
    "    plt.xlabel(\"x\")\n",
    "    \n",
    "    plt.xticks([d for d in dist], rotation=0)\n",
    "\n",
    "    #plt.savefig('nome_da_imagem.png')\n",
    "    plt.show()\n",
    "    \n",
    "def plot_ccdf_distance_log(G):\n",
    "    contar_distancia = Counter(distances)\n",
    "    dist, cnt = zip(*contar_distancia.items())\n",
    "    dist = list(dist)\n",
    "    cnt = list(cnt)\n",
    "    distancias = sorted(zip(dist, cnt), key=lambda x:x[0])\n",
    "    #print(distancias)\n",
    "    # Calcula o percentual da distancia(pdf)\n",
    "    perc = [0]*len(cnt)\n",
    "    for idx, d in distancias:\n",
    "        val = round(d/len(distances),4)\n",
    "     #   print(val)\n",
    "        perc[idx-1] = val  \n",
    "    \n",
    "    # Calculando a cdf\n",
    "    perc_cdf = []\n",
    "    ite = 0\n",
    "    for d in perc:\n",
    "        if ite == 0:\n",
    "            perc_cdf.append(d)\n",
    "        else:\n",
    "            perc_cdf.append(d + perc_cdf[(ite - 1)])\n",
    "      #  print(ite, perc_cdf[ite])\n",
    "        ite += 1\n",
    "    \n",
    "    # Calculando a ccdf\n",
    "    perc_ccdf = []\n",
    "    for ite in range(len(perc_cdf)):\n",
    "        if ite == 0:\n",
    "            perc_ccdf.append(1)\n",
    "        else:\n",
    "            perc_ccdf.append(1 - perc_cdf[(ite - 1)])\n",
    "        \n",
    "    plt.figure(figsize = (6,4))\n",
    "    plt.plot(sorted(dist), perc_ccdf, 'bo')\n",
    "  \n",
    "    plt.title(\"CCDF empirica da distancia\")\n",
    "    plt.ylabel(\"Fração de amostras >= x\")\n",
    "    plt.xlabel(\"x\")\n",
    "    \n",
    "    plt.xscale('log')\n",
    "    plt.yscale('log')\n",
    "    \n",
    "    #plt.savefig('nome_da_imagem.png')\n",
    "    plt.show()\n",
    "    "
   ]
  },
  {
   "cell_type": "code",
   "execution_count": 9,
   "metadata": {},
   "outputs": [],
   "source": [
    "distances = distance_largest_component(G)"
   ]
  },
  {
   "cell_type": "code",
   "execution_count": 10,
   "metadata": {},
   "outputs": [
    {
     "name": "stdout",
     "output_type": "stream",
     "text": [
      "\n",
      "----- Analise das distancias da maior componente conexa -----\n",
      "\n",
      "Distancia maxima: 17\n",
      "Distancia minima: 1\n",
      "Distancia media: 6.0419\n",
      "Mediana da distancia: 6.0\n",
      "Desvio padrão da distancia: 2.3445\n",
      "\n"
     ]
    }
   ],
   "source": [
    "print(\"\\n----- Analise das distancias da maior componente conexa -----\\n\")\n",
    "        \n",
    "# Distancia\n",
    "print(\"Distancia maxima: \" + str(max(distances)))\n",
    "print(\"Distancia minima: \" + str(min(distances)))\n",
    "print(\"Distancia media: \" + str(round(np.mean(distances),4)))\n",
    "print(\"Mediana da distancia: \" + str(np.median(distances)))\n",
    "print(\"Desvio padrão da distancia: \" + str(round(np.std(distances),4)))\n",
    "print()\n",
    "\n",
    "largest_cc = max(nx.connected_components(G), key=len)\n",
    "dens = nx.diameter(G.subgraph(largest_cc))\n",
    "#print(\"diametro: \" + str(dens))\n",
    "# maior distancia de um vertice a todos os outros do subgrafo e(u) = max[d(u,v)]\n",
    "ecc = nx.eccentricity(G.subgraph(largest_cc))\n",
    "#print(max(ecc.items(),key= lambda x: x[1]))"
   ]
  },
  {
   "cell_type": "markdown",
   "metadata": {},
   "source": [
    "# Plots"
   ]
  },
  {
   "cell_type": "code",
   "execution_count": 11,
   "metadata": {},
   "outputs": [
    {
     "data": {
      "image/png": "[encoded data removed]",
      "text/plain": [
       "<Figure size 864x504 with 1 Axes>"
      ]
     },
     "metadata": {
      "needs_background": "light"
     },
     "output_type": "display_data"
    }
   ],
   "source": [
    "plot_pdf_degree(G)"
   ]
  },
  {
   "cell_type": "code",
   "execution_count": 12,
   "metadata": {},
   "outputs": [
    {
     "data": {
      "image/png": "[encoded data removed]",
      "text/plain": [
       "<Figure size 864x504 with 1 Axes>"
      ]
     },
     "metadata": {
      "needs_background": "light"
     },
     "output_type": "display_data"
    }
   ],
   "source": [
    "plot_cdf_degree(G)"
   ]
  },
  {
   "cell_type": "code",
   "execution_count": 13,
   "metadata": {},
   "outputs": [
    {
     "data": {
      "image/png": "[encoded data removed]",
      "text/plain": [
       "<Figure size 864x504 with 1 Axes>"
      ]
     },
     "metadata": {
      "needs_background": "light"
     },
     "output_type": "display_data"
    }
   ],
   "source": [
    "plot_ccdf_degree(G)"
   ]
  },
  {
   "cell_type": "code",
   "execution_count": 14,
   "metadata": {},
   "outputs": [
    {
     "data": {
      "image/png": "[encoded data removed]",
      "text/plain": [
       "<Figure size 432x288 with 1 Axes>"
      ]
     },
     "metadata": {
      "needs_background": "light"
     },
     "output_type": "display_data"
    }
   ],
   "source": [
    "plot_ccdf_degree_log(G)"
   ]
  },
  {
   "cell_type": "code",
   "execution_count": 15,
   "metadata": {},
   "outputs": [
    {
     "data": {
      "image/png": "[encoded data removed]",
      "text/plain": [
       "<Figure size 864x504 with 1 Axes>"
      ]
     },
     "metadata": {
      "needs_background": "light"
     },
     "output_type": "display_data"
    }
   ],
   "source": [
    "plot_pdf_distance(distances)"
   ]
  },
  {
   "cell_type": "code",
   "execution_count": 16,
   "metadata": {},
   "outputs": [
    {
     "data": {
      "image/png": "[encoded data removed]",
      "text/plain": [
       "<Figure size 864x504 with 1 Axes>"
      ]
     },
     "metadata": {
      "needs_background": "light"
     },
     "output_type": "display_data"
    }
   ],
   "source": [
    "plot_cdf_distance(distances)"
   ]
  },
  {
   "cell_type": "code",
   "execution_count": 17,
   "metadata": {},
   "outputs": [
    {
     "data": {
      "image/png": "[encoded data removed]",
      "text/plain": [
       "<Figure size 864x504 with 1 Axes>"
      ]
     },
     "metadata": {
      "needs_background": "light"
     },
     "output_type": "display_data"
    }
   ],
   "source": [
    "plot_ccdf_distance(distances)"
   ]
  },
  {
   "cell_type": "code",
   "execution_count": 18,
   "metadata": {},
   "outputs": [
    {
     "data": {
      "image/png": "[encoded data removed]",
      "text/plain": [
       "<Figure size 432x288 with 1 Axes>"
      ]
     },
     "metadata": {
      "needs_background": "light"
     },
     "output_type": "display_data"
    }
   ],
   "source": [
    "plot_ccdf_distance_log(distances)"
   ]
  }
 ],
 "metadata": {
  "kernelspec": {
   "display_name": "Python 3",
   "language": "python",
   "name": "python3"
  },
  "language_info": {
   "codemirror_mode": {
    "name": "ipython",
    "version": 3
   },
   "file_extension": ".py",
   "mimetype": "text/x-python",
   "name": "python",
   "nbconvert_exporter": "python",
   "pygments_lexer": "ipython3",
   "version": "3.7.3"
  }
 },
 "nbformat": 4,
 "nbformat_minor": 2
}
